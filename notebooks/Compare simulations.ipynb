{
 "cells": [
  {
   "cell_type": "code",
   "execution_count": 9,
   "metadata": {
    "collapsed": false
   },
   "outputs": [
    {
     "name": "stdout",
     "output_type": "stream",
     "text": [
      "\n",
      "pathtodata =\n",
      "\n",
      "    '/Users/M/Synced/Titan/Bench4/'\n",
      "\n"
     ]
    }
   ],
   "source": [
    "pathtodata = '/Users/M/Synced/Titan/Bench4/'\n",
    "files = {...\n",
    "'curlies_bridges_two_maskstim_seeded_10_29-Sep-2017'\n",
    "'curlies_bridges_two_maskstim_seeded_1_28-Sep-2017.mat'\n",
    "'curlies_bridges_two_maskstim_seeded_6_25-Sep-2017.mat'\n",
    "'curlies_bridges_two_maskstim_seeded_8_29-Sep-2017.mat'\n",
    "'curlies_bridges_two_maskstim_seeded_9_29-Sep-2017.mat'};"
   ]
  },
  {
   "cell_type": "code",
   "execution_count": 73,
   "metadata": {
    "collapsed": false
   },
   "outputs": [],
   "source": [
    "load ([pathtodata files{2}])\n",
    "clear z, clear z4\n",
    "for ii =1:6\n",
    "    z{ii} = sim{ii}.networkHistory.V_soma;\n",
    "    z1 = double(z{ii}(:, 500:end)');\n",
    "    z2 = bsxfun(@minus, z1, mean(z1,1));\n",
    "    z3 = hilbert(z2);\n",
    "    logamp = log(mean(abs(z3)));\n",
    "    igood = find(logamp>=-5.4);\n",
    "    ibad = find(logamp<-5.4);\n",
    "    z4{ii} = z2(:,igood);\n",
    "    z4{ii} = bsxfun(@times, z4{ii}, 1./std(z4{ii})); % Normalize the amplitude as well\n",
    "    % z4m = mean(z4, 2);\n",
    "end\n",
    "\n",
    "\n"
   ]
  },
  {
   "cell_type": "code",
   "execution_count": 55,
   "metadata": {
    "collapsed": false
   },
   "outputs": [],
   "source": [
    "    z4{ii} = bsxfun(@times, z4{ii}, 1./std(z4{ii})); % Normalize the amplitude as well"
   ]
  },
  {
   "cell_type": "code",
   "execution_count": 86,
   "metadata": {
    "collapsed": false
   },
   "outputs": [
    {
     "name": "stdout",
     "output_type": "stream",
     "text": [
      "Warning: Ignoring extra legend entries.\n",
      "> In legend>set_children_and_strings (line 674)\n",
      "  In legend>make_legend (line 346)\n",
      "  In legend (line 294)\n"
     ]
    },
    {
     "data": {
      "image/png": "[encoded data removed]",
      "text/plain": [
       "<IPython.core.display.Image object>"
      ]
     },
     "metadata": {},
     "output_type": "display_data"
    }
   ],
   "source": [
    "plot(mmet(1:3,:)')\n",
    "xlabel('number of clusters')\n",
    "ylabel('cluster stability')\n",
    "legend({'curlies 1';'bridges 1'; 'brick 1' ; 'curlies 2';'bridges 2'; 'brick 2' })"
   ]
  },
  {
   "cell_type": "code",
   "execution_count": 82,
   "metadata": {
    "collapsed": false
   },
   "outputs": [
    {
     "name": "stdout",
     "output_type": "stream",
     "text": [
      "i, Ncl\n",
      "1, 2\n",
      "2, 3\n",
      "3, 4\n",
      "4, 5\n",
      "5, 6\n",
      "6, 7\n",
      "7, 8\n",
      "8, 9\n",
      "9, 10\n",
      "10, 11\n",
      "11, 12\n",
      "12, 13\n",
      "13, 14\n",
      "14, 15\n",
      "15, 16\n",
      "16, 17\n",
      "17, 18\n",
      "18, 19\n",
      "19, 20\n",
      "20, 21\n",
      "21, 22\n",
      "22, 23\n",
      "23, 24\n",
      "24, 25\n",
      "25, 26\n",
      "26, 27\n",
      "27, 28\n",
      "28, 29\n",
      "29, 30\n",
      "30, 31\n",
      "31, 32\n",
      "32, 33\n",
      "33, 34\n",
      "34, 35\n",
      "35, 36\n",
      "36, 37\n",
      "37, 38\n",
      "38, 39\n",
      "39, 40\n",
      "40, 41\n",
      "41, 42\n",
      "42, 43\n",
      "43, 44\n",
      "44, 45\n",
      "45, 46\n",
      "46, 47\n",
      "47, 48\n",
      "48, 49\n",
      "49, 50\n",
      "50, 51\n",
      "51, 52\n",
      "52, 53\n",
      "53, 54\n",
      "54, 55\n",
      "55, 56\n",
      "56, 57\n",
      "57, 58\n",
      "58, 59\n",
      "59, 60\n",
      "60, 61\n",
      "61, 62\n",
      "62, 63\n",
      "63, 64\n",
      "64, 65\n",
      "65, 66\n",
      "66, 67\n",
      "67, 68\n",
      "68, 69\n",
      "69, 70\n",
      "i, Ncl\n",
      "1, 2\n",
      "2, 3\n",
      "3, 4\n",
      "4, 5\n",
      "5, 6\n",
      "6, 7\n",
      "7, 8\n",
      "8, 9\n",
      "9, 10\n",
      "10, 11\n",
      "11, 12\n",
      "12, 13\n",
      "13, 14\n",
      "14, 15\n",
      "15, 16\n",
      "16, 17\n",
      "17, 18\n",
      "18, 19\n",
      "19, 20\n",
      "20, 21\n",
      "21, 22\n",
      "22, 23\n",
      "23, 24\n",
      "24, 25\n",
      "25, 26\n",
      "26, 27\n",
      "27, 28\n",
      "28, 29\n",
      "29, 30\n",
      "30, 31\n",
      "31, 32\n",
      "32, 33\n",
      "33, 34\n",
      "34, 35\n",
      "35, 36\n",
      "36, 37\n",
      "37, 38\n",
      "38, 39\n",
      "39, 40\n",
      "40, 41\n",
      "41, 42\n",
      "42, 43\n",
      "43, 44\n",
      "44, 45\n",
      "45, 46\n",
      "46, 47\n",
      "47, 48\n",
      "48, 49\n",
      "49, 50\n",
      "50, 51\n",
      "51, 52\n",
      "52, 53\n",
      "53, 54\n",
      "54, 55\n",
      "55, 56\n",
      "56, 57\n",
      "57, 58\n",
      "58, 59\n",
      "59, 60\n",
      "60, 61\n",
      "61, 62\n",
      "62, 63\n",
      "63, 64\n",
      "64, 65\n",
      "65, 66\n",
      "66, 67\n",
      "67, 68\n",
      "68, 69\n",
      "69, 70\n",
      "i, Ncl\n",
      "1, 2\n",
      "2, 3\n",
      "3, 4\n",
      "4, 5\n",
      "5, 6\n",
      "6, 7\n",
      "7, 8\n",
      "8, 9\n",
      "9, 10\n",
      "10, 11\n",
      "11, 12\n",
      "12, 13\n",
      "13, 14\n",
      "14, 15\n",
      "15, 16\n",
      "16, 17\n",
      "17, 18\n",
      "18, 19\n",
      "19, 20\n",
      "20, 21\n",
      "21, 22\n",
      "22, 23\n",
      "23, 24\n",
      "24, 25\n",
      "25, 26\n",
      "26, 27\n",
      "27, 28\n",
      "28, 29\n",
      "29, 30\n",
      "30, 31\n",
      "31, 32\n",
      "32, 33\n",
      "33, 34\n",
      "34, 35\n",
      "35, 36\n",
      "36, 37\n",
      "37, 38\n",
      "38, 39\n",
      "39, 40\n",
      "40, 41\n",
      "41, 42\n",
      "42, 43\n",
      "43, 44\n",
      "44, 45\n",
      "45, 46\n",
      "46, 47\n",
      "47, 48\n",
      "48, 49\n",
      "49, 50\n",
      "50, 51\n",
      "51, 52\n",
      "52, 53\n",
      "53, 54\n",
      "54, 55\n",
      "55, 56\n",
      "56, 57\n",
      "57, 58\n",
      "58, 59\n",
      "59, 60\n",
      "60, 61\n",
      "61, 62\n",
      "62, 63\n",
      "63, 64\n",
      "64, 65\n",
      "65, 66\n",
      "66, 67\n",
      "67, 68\n",
      "68, 69\n",
      "69, 70\n"
     ]
    }
   ],
   "source": [
    "% Compute cluster stability for different simulations\n",
    "\n",
    "Nshuffle = 20;\n",
    "\n",
    "win  = 3000;\n",
    "trig = 1+[5000 9000];\n",
    "trig = 5000;\n",
    "\n",
    "cc = 1;\n",
    "for ii = [1:3]\n",
    "    for tr = trig\n",
    "        z4{ii} = bsxfun(@times, z4{ii}, 1./std(z4{ii})); % Normalize the amplitude as well\n",
    "        zn = corr(z4{ii}(trig:trig+win,:));\n",
    "        zn(zn<0) = 0;\n",
    "        [zn2, idxz] = make_rand_samples2(zn, Nshuffle, 0.8);\n",
    "        v = spctcldata(zn);\n",
    "        vs = cellfun(@spctcldata, zn2, 'UniformOutput', false);\n",
    "\n",
    "        ngrid = 70 - 1;\n",
    "        met = zeros(ngrid, Nshuffle*(Nshuffle-1)/2);\n",
    "        rmet = zeros(ngrid, Nshuffle*(Nshuffle-1)/2);\n",
    "        fprintf('i, Ncl\\n');\n",
    "        for i=1:ngrid\n",
    "            Ncl = i+1;\n",
    "\n",
    "            % Perform clustering on the random samples\n",
    "            clidx = arrayfun(@(k) spctcl(vs{k}, Ncl, 1), 1:Nshuffle, 'UniformOutput', false);\n",
    "\n",
    "            % Evaluate distance between each pair\n",
    "            [pd, rpd] = cij2(clidx, idxz);\n",
    "            met(i,:) = pd;\n",
    "            rmet(i,:) = rpd;\n",
    "\n",
    "            % fprintf('%d, %d\\n', i, Ncl);\n",
    "        end\n",
    "        mmet(cc,:) = 1-mean(met'./rmet');\n",
    "        sdmet(cc,:) = std(met'./rmet');\n",
    "        cc = cc+1;\n",
    "\n",
    "\n",
    "    end\n",
    "end"
   ]
  },
  {
   "cell_type": "code",
   "execution_count": 22,
   "metadata": {
    "collapsed": false
   },
   "outputs": [
    {
     "name": "stderr",
     "output_type": "stream",
     "text": [
      "\u001b[0;31mError using eval\n",
      "Undefined function or variable 'zc'.\n",
      "\n",
      "\u001b[0m"
     ]
    }
   ],
   "source": [
    "zc"
   ]
  },
  {
   "cell_type": "code",
   "execution_count": 87,
   "metadata": {
    "collapsed": false
   },
   "outputs": [
    {
     "name": "stderr",
     "output_type": "stream",
     "text": [
      "\u001b[0;31mError using eval\n",
      "Undefined function or variable 'connectivity_comparisons'.\n",
      "\n",
      "\u001b[0m"
     ]
    }
   ],
   "source": [
    "connectivity_comparisons"
   ]
  },
  {
   "cell_type": "code",
   "execution_count": 90,
   "metadata": {
    "collapsed": true
   },
   "outputs": [],
   "source": [
    "addpath(genpath('/Users/M/Synced/Projects/Experiments/Olive/model/OliveTree'))"
   ]
  },
  {
   "cell_type": "code",
   "execution_count": 95,
   "metadata": {
    "collapsed": false
   },
   "outputs": [
    {
     "name": "stdout",
     "output_type": "stream",
     "text": [
      "\n",
      "ans =\n",
      "\n",
      "     0\n",
      "\n",
      "\n",
      "ans =\n",
      "\n",
      "     0\n",
      "\n",
      "\n",
      "ans =\n",
      "\n",
      "     0\n",
      "\n",
      "\n",
      "ans =\n",
      "\n",
      "     0\n",
      "\n",
      "\n",
      "ans =\n",
      "\n",
      "     0\n",
      "\n",
      "\n",
      "ans =\n",
      "\n",
      "     0\n",
      "\n",
      "\n",
      "ans =\n",
      "\n",
      "     0\n",
      "\n"
     ]
    },
    {
     "name": "stderr",
     "output_type": "stream",
     "text": [
      "\u001b[0;31mError using surf (line 82)\n",
      "Z must be a matrix, not a scalar or vector.\n",
      "\n",
      "Error in connectivity_comparisons (line 403)\n",
      "\tM1_wd = surf( n_connections, radiuses, clusterSURF1_wd), hold on; set(M1_wd, 'edgecolor','g','facecolor','g') ; \n",
      "\n",
      "\u001b[0m"
     ]
    },
    {
     "data": {
      "image/png": "[encoded data removed]",
      "text/plain": [
       "<IPython.core.display.Image object>"
      ]
     },
     "metadata": {},
     "output_type": "display_data"
    },
    {
     "data": {
      "image/png": "[encoded data removed]",
      "text/plain": [
       "<IPython.core.display.Image object>"
      ]
     },
     "metadata": {},
     "output_type": "display_data"
    }
   ],
   "source": [
    "connectivity_comparisons"
   ]
  },
  {
   "cell_type": "code",
   "execution_count": 97,
   "metadata": {
    "collapsed": false
   },
   "outputs": [
    {
     "name": "stdout",
     "output_type": "stream",
     "text": [
      "\n",
      "clusterSURF2_wd =\n",
      "\n",
      "    0.0616\n",
      "\n"
     ]
    }
   ],
   "source": [
    "clusterSURF2_wd\n"
   ]
  },
  {
   "cell_type": "code",
   "execution_count": null,
   "metadata": {
    "collapsed": true
   },
   "outputs": [],
   "source": []
  }
 ],
 "metadata": {
  "kernelspec": {
   "display_name": "Matlab",
   "language": "matlab",
   "name": "matlab"
  },
  "language_info": {
   "codemirror_mode": "octave",
   "file_extension": ".m",
   "help_links": [
    {
     "text": "MetaKernel Magics",
     "url": "https://github.com/calysto/metakernel/blob/master/metakernel/magics/README.md"
    }
   ],
   "mimetype": "text/x-matlab",
   "name": "matlab",
   "version": "0.14.3"
  }
 },
 "nbformat": 4,
 "nbformat_minor": 2
}
